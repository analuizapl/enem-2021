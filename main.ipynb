{
 "cells": [
  {
   "cell_type": "code",
   "execution_count": 1,
   "metadata": {},
   "outputs": [],
   "source": [
    "import numpy as np \n",
    "import pandas as pd \n",
    "import matplotlib.pyplot as plt \n",
    "import seaborn as sns\n",
    "from sklearn.linear_model import LinearRegression\n",
    "from sklearn.model_selection import train_test_split\n",
    "from sklearn import metrics\n",
    "pd.options.display.max_columns = None"
   ]
  },
  {
   "cell_type": "code",
   "execution_count": 2,
   "metadata": {},
   "outputs": [],
   "source": [
    "colunas = ['NU_INSCRICAO', 'NU_ANO', 'TP_FAIXA_ETARIA', 'TP_SEXO',\n",
    "       'TP_ESTADO_CIVIL', 'TP_COR_RACA', 'TP_NACIONALIDADE', 'TP_ST_CONCLUSAO',\n",
    "       'TP_ANO_CONCLUIU', 'TP_ESCOLA', 'TP_ENSINO','CO_UF_ESC', \n",
    "       'TP_DEPENDENCIA_ADM_ESC', 'TP_LOCALIZACAO_ESC', 'TP_SIT_FUNC_ESC',\n",
    "       'TP_PRESENCA_CN', 'TP_PRESENCA_CH', 'TP_PRESENCA_LC',\n",
    "       'TP_PRESENCA_MT', 'CO_PROVA_CN', 'CO_PROVA_CH', 'CO_PROVA_LC',\n",
    "       'CO_PROVA_MT', 'NU_NOTA_CN', 'NU_NOTA_CH', 'NU_NOTA_LC', 'NU_NOTA_MT','NU_NOTA_REDACAO','Q001', 'Q002', 'Q003', 'Q004',\n",
    "       'Q005', 'Q006', 'Q007', 'Q008', 'Q009', 'Q010', 'Q011', 'Q012', 'Q013',\n",
    "       'Q014', 'Q015', 'Q016', 'Q017', 'Q018', 'Q019', 'Q020', 'Q021', 'Q022',\n",
    "       'Q023', 'Q024', 'Q025']\n",
    "\n",
    "df_microdados = pd.read_csv('DADOS/MICRODADOS_ENEM_2021.csv', encoding='latin-1', sep=';', usecols=colunas)"
   ]
  },
  {
   "cell_type": "code",
   "execution_count": 3,
   "metadata": {},
   "outputs": [],
   "source": [
    "new_column_names = {\n",
    "    'Q001': 'ESCOLARIDADE_PAI',\n",
    "    'Q002': 'ESCOLARIDADE_MAE',\n",
    "    'Q003': 'OCUPACAO_PAI',\n",
    "    'Q004': 'OCUPACAO_MAE',\n",
    "    'Q005': 'QUANT_PESSOAS_RESIDENCIA',\n",
    "    'Q006': 'RENDA_MENSAL',\n",
    "    'Q007': 'EMPREGADO_DOMESTICO',\n",
    "    'Q008': 'QUANT_BANHEIROS',\n",
    "    'Q009': 'QUANT_QUARTOS',\n",
    "    'Q010': 'QUANT_CARROS',\n",
    "    'Q011': 'QUANT_MOTOS',\n",
    "    'Q012': 'QUANT_GELADEIRA',\n",
    "    'Q013': 'QUANT_FREEZER',\n",
    "    'Q014': 'QUANT_MAQUINA_LAVAR',\n",
    "    'Q015': 'QUANT_SECADORA',\n",
    "    'Q016': 'QUANT_MICROONDAS',\n",
    "    'Q017': 'QUANT_MAQ_LAVAR_LOUCA',\n",
    "    'Q018': 'QUANT_ASPIRADOR_PO',\n",
    "    'Q019': 'QUANT_TV_CORES',\n",
    "    'Q020': 'QUANT_APARELHO_DVD',\n",
    "    'Q021': 'POSSUI_TV_ASSINATURA',\n",
    "    'Q022': 'QUANT_CELULAR',\n",
    "    'Q023': 'POSSUI_TELEFONE_FIXO',\n",
    "    'Q024': 'QUANT_COMPUTADOR',\n",
    "    'Q025': 'POSSUI_ACESSO_INTERNET'\n",
    "}\n",
    "\n",
    "df_microdados.rename(columns=new_column_names, inplace=True)\n"
   ]
  },
  {
   "cell_type": "code",
   "execution_count": 4,
   "metadata": {},
   "outputs": [],
   "source": [
    "df_microdados['QUANT_BANHEIROS'] = df_microdados['QUANT_BANHEIROS'].replace({\n",
    "    'A': '0',\n",
    "    'B': '1',\n",
    "    'C': '2',\n",
    "    'D': '3',\n",
    "    'E': '4'\n",
    "    })\n",
    "\n",
    "df_microdados['QUANT_QUARTOS'] = df_microdados['QUANT_QUARTOS'].replace({\n",
    "    'A': '0',\n",
    "    'B': '1',\n",
    "    'C': '2',\n",
    "    'D': '3',\n",
    "    'E': '4'\n",
    "    })\n",
    "\n",
    "df_microdados['QUANT_CARROS'] = df_microdados['QUANT_CARROS'].replace({\n",
    "    'A': '0',\n",
    "    'B': '1',\n",
    "    'C': '2',\n",
    "    'D': '3',\n",
    "    'E': '4'\n",
    "    })\n",
    "\n",
    "df_microdados['QUANT_MOTOS'] = df_microdados['QUANT_MOTOS'].replace({\n",
    "    'A': '0',\n",
    "    'B': '1',\n",
    "    'C': '2',\n",
    "    'D': '3',\n",
    "    'E': '4'\n",
    "    })\n",
    "\n",
    "df_microdados['QUANT_GELADEIRA'] = df_microdados['QUANT_GELADEIRA'].replace({\n",
    "    'A': '0',\n",
    "    'B': '1',\n",
    "    'C': '2',\n",
    "    'D': '3',\n",
    "    'E': '4'\n",
    "    })\n",
    "\n",
    "df_microdados['QUANT_FREEZER'] = df_microdados['QUANT_FREEZER'].replace({\n",
    "    'A': '0',\n",
    "    'B': '1',\n",
    "    'C': '2',\n",
    "    'D': '3',\n",
    "    'E': '4'\n",
    "    })\n",
    "\n",
    "df_microdados['QUANT_MAQUINA_LAVAR'] = df_microdados['QUANT_MAQUINA_LAVAR'].replace({\n",
    "    'A': '0',\n",
    "    'B': '1',\n",
    "    'C': '2',\n",
    "    'D': '3',\n",
    "    'E': '4'\n",
    "    })\n",
    "\n",
    "df_microdados['QUANT_SECADORA'] = df_microdados['QUANT_SECADORA'].replace({\n",
    "    'A': '0',\n",
    "    'B': '1',\n",
    "    'C': '2',\n",
    "    'D': '3',\n",
    "    'E': '4'\n",
    "    })\n",
    "\n",
    "df_microdados['QUANT_MICROONDAS'] = df_microdados['QUANT_MICROONDAS'].replace({\n",
    "    'A': '0',\n",
    "    'B': '1',\n",
    "    'C': '2',\n",
    "    'D': '3',\n",
    "    'E': '4'\n",
    "    })\n",
    "\n",
    "df_microdados['QUANT_MAQ_LAVAR_LOUCA'] = df_microdados['QUANT_MAQ_LAVAR_LOUCA'].replace({\n",
    "    'A': '0',\n",
    "    'B': '1',\n",
    "    'C': '2',\n",
    "    'D': '3',\n",
    "    'E': '4'\n",
    "    })\n",
    "\n",
    "df_microdados['QUANT_ASPIRADOR_PO'] = df_microdados['QUANT_ASPIRADOR_PO'].replace({\n",
    "    'A': '0',\n",
    "    'B': '1'\n",
    "    })\n",
    "\n",
    "df_microdados['QUANT_TV_CORES'] = df_microdados['QUANT_TV_CORES'].replace({\n",
    "    'A': '0',\n",
    "    'B': '1',\n",
    "    'C': '2',\n",
    "    'D': '3',\n",
    "    'E': '4'\n",
    "    })\n",
    "\n",
    "df_microdados['QUANT_APARELHO_DVD'] = df_microdados['QUANT_APARELHO_DVD'].replace({\n",
    "    'A': '0',\n",
    "    'B': '1'\n",
    "    })\n",
    "\n",
    "df_microdados['POSSUI_TV_ASSINATURA'] = df_microdados['POSSUI_TV_ASSINATURA'].replace({\n",
    "    'A': '0',\n",
    "    'B': '1'\n",
    "    })\n",
    "\n",
    "df_microdados['QUANT_CELULAR'] = df_microdados['QUANT_CELULAR'].replace({\n",
    "    'A': '0',\n",
    "    'B': '1',\n",
    "    'C': '2',\n",
    "    'D': '3',\n",
    "    'E': '4'\n",
    "    })\n",
    "\n",
    "df_microdados['QUANT_COMPUTADOR'] = df_microdados['QUANT_COMPUTADOR'].replace({\n",
    "    'A': '0',\n",
    "    'B': '1',\n",
    "    'C': '2',\n",
    "    'D': '3',\n",
    "    'E': '4'\n",
    "    })\n",
    "\n",
    "df_microdados['POSSUI_TELEFONE_FIXO'] = df_microdados['POSSUI_TELEFONE_FIXO'].replace({\n",
    "    'A': '0',\n",
    "    'B': '1'\n",
    "    })\n",
    "\n",
    "df_microdados['POSSUI_ACESSO_INTERNET'] = df_microdados['POSSUI_ACESSO_INTERNET'].replace({\n",
    "    'A': '0',\n",
    "    'B': '1'\n",
    "    })"
   ]
  },
  {
   "cell_type": "code",
   "execution_count": 5,
   "metadata": {},
   "outputs": [],
   "source": [
    "df_microdados = df_microdados.dropna()\n",
    "categorical_columns = ['TP_SEXO','ESCOLARIDADE_PAI', 'ESCOLARIDADE_MAE','OCUPACAO_PAI', 'OCUPACAO_MAE','RENDA_MENSAL','EMPREGADO_DOMESTICO']  \n",
    "\n",
    "df_microdados = pd.get_dummies(df_microdados, columns=categorical_columns)"
   ]
  },
  {
   "cell_type": "code",
   "execution_count": 6,
   "metadata": {},
   "outputs": [],
   "source": [
    "df_microdados[['NU_NOTA_CN', 'NU_NOTA_CH', 'NU_NOTA_LC', 'NU_NOTA_MT', 'NU_NOTA_REDACAO']] = df_microdados[['NU_NOTA_CN', 'NU_NOTA_CH', 'NU_NOTA_LC', 'NU_NOTA_MT', 'NU_NOTA_REDACAO']].apply(pd.to_numeric, errors='coerce')\n",
    "\n",
    "df_microdados['NOTA_FINAL'] = (df_microdados['NU_NOTA_CN'] + df_microdados['NU_NOTA_CH'] + df_microdados['NU_NOTA_LC'] + df_microdados['NU_NOTA_MT'] + df_microdados['NU_NOTA_REDACAO']) / 5\n"
   ]
  },
  {
   "cell_type": "code",
   "execution_count": 7,
   "metadata": {},
   "outputs": [],
   "source": [
    "X = df_microdados.drop('NOTA_FINAL', axis=1)\n",
    "y = df_microdados['NOTA_FINAL']\n",
    "\n",
    "X_train, X_test, y_train, y_test = train_test_split(X, y, test_size=0.2, random_state=42)"
   ]
  },
  {
   "cell_type": "code",
   "execution_count": 8,
   "metadata": {},
   "outputs": [
    {
     "data": {
      "text/plain": [
       "LinearRegression()"
      ]
     },
     "execution_count": 8,
     "metadata": {},
     "output_type": "execute_result"
    }
   ],
   "source": [
    "modelo_lr = LinearRegression()\n",
    "modelo_lr.fit(X_train, y_train)"
   ]
  },
  {
   "cell_type": "code",
   "execution_count": 9,
   "metadata": {},
   "outputs": [],
   "source": [
    "y_pred = modelo_lr.predict(X_train)"
   ]
  },
  {
   "cell_type": "code",
   "execution_count": 10,
   "metadata": {},
   "outputs": [],
   "source": [
    "coefficients = modelo_lr.coef_\n",
    "\n",
    "feature_importances = pd.DataFrame(coefficients, index=X_train.columns, columns=['Importance']).sort_values('Importance', ascending=False)"
   ]
  },
  {
   "cell_type": "code",
   "execution_count": 11,
   "metadata": {},
   "outputs": [
    {
     "data": {
      "text/html": [
       "<div>\n",
       "<style scoped>\n",
       "    .dataframe tbody tr th:only-of-type {\n",
       "        vertical-align: middle;\n",
       "    }\n",
       "\n",
       "    .dataframe tbody tr th {\n",
       "        vertical-align: top;\n",
       "    }\n",
       "\n",
       "    .dataframe thead th {\n",
       "        text-align: right;\n",
       "    }\n",
       "</style>\n",
       "<table border=\"1\" class=\"dataframe\">\n",
       "  <thead>\n",
       "    <tr style=\"text-align: right;\">\n",
       "      <th></th>\n",
       "      <th>Importance</th>\n",
       "    </tr>\n",
       "  </thead>\n",
       "  <tbody>\n",
       "    <tr>\n",
       "      <th>NU_NOTA_MT</th>\n",
       "      <td>2.000000e-01</td>\n",
       "    </tr>\n",
       "    <tr>\n",
       "      <th>NU_NOTA_CH</th>\n",
       "      <td>2.000000e-01</td>\n",
       "    </tr>\n",
       "    <tr>\n",
       "      <th>NU_NOTA_REDACAO</th>\n",
       "      <td>2.000000e-01</td>\n",
       "    </tr>\n",
       "    <tr>\n",
       "      <th>NU_NOTA_CN</th>\n",
       "      <td>2.000000e-01</td>\n",
       "    </tr>\n",
       "    <tr>\n",
       "      <th>NU_NOTA_LC</th>\n",
       "      <td>2.000000e-01</td>\n",
       "    </tr>\n",
       "    <tr>\n",
       "      <th>ESCOLARIDADE_PAI_A</th>\n",
       "      <td>2.506380e-13</td>\n",
       "    </tr>\n",
       "    <tr>\n",
       "      <th>RENDA_MENSAL_D</th>\n",
       "      <td>2.058495e-13</td>\n",
       "    </tr>\n",
       "    <tr>\n",
       "      <th>QUANT_MAQ_LAVAR_LOUCA</th>\n",
       "      <td>1.635423e-13</td>\n",
       "    </tr>\n",
       "    <tr>\n",
       "      <th>OCUPACAO_PAI_E</th>\n",
       "      <td>1.612280e-13</td>\n",
       "    </tr>\n",
       "    <tr>\n",
       "      <th>ESCOLARIDADE_MAE_E</th>\n",
       "      <td>1.562034e-13</td>\n",
       "    </tr>\n",
       "  </tbody>\n",
       "</table>\n",
       "</div>"
      ],
      "text/plain": [
       "                         Importance\n",
       "NU_NOTA_MT             2.000000e-01\n",
       "NU_NOTA_CH             2.000000e-01\n",
       "NU_NOTA_REDACAO        2.000000e-01\n",
       "NU_NOTA_CN             2.000000e-01\n",
       "NU_NOTA_LC             2.000000e-01\n",
       "ESCOLARIDADE_PAI_A     2.506380e-13\n",
       "RENDA_MENSAL_D         2.058495e-13\n",
       "QUANT_MAQ_LAVAR_LOUCA  1.635423e-13\n",
       "OCUPACAO_PAI_E         1.612280e-13\n",
       "ESCOLARIDADE_MAE_E     1.562034e-13"
      ]
     },
     "execution_count": 11,
     "metadata": {},
     "output_type": "execute_result"
    }
   ],
   "source": [
    "feature_importances.head(10)"
   ]
  },
  {
   "cell_type": "code",
   "execution_count": 12,
   "metadata": {},
   "outputs": [
    {
     "data": {
      "image/png": "[encoded data removed]",
      "text/plain": [
       "<Figure size 720x432 with 1 Axes>"
      ]
     },
     "metadata": {
      "needs_background": "light"
     },
     "output_type": "display_data"
    }
   ],
   "source": [
    "n = 5\n",
    "\n",
    "feature_importances.drop(feature_importances.head(n).index,inplace = True)\n",
    "\n",
    "top_5_features = feature_importances.head(5)\n",
    "bottom_5_features = feature_importances.tail(5)\n",
    "\n",
    "top_bottom_features = pd.concat([top_5_features, bottom_5_features])\n",
    "\n",
    "plt.figure(figsize=(10, 6))\n",
    "sns.barplot(y=top_bottom_features.index, x=top_bottom_features['Importance'])\n",
    "plt.title('Top 5 and Bottom 5 Feature Importances')\n",
    "plt.xlabel('Importance')\n",
    "plt.ylabel('Features')\n",
    "plt.show()\n"
   ]
  },
  {
   "cell_type": "code",
   "execution_count": 13,
   "metadata": {},
   "outputs": [
    {
     "name": "stdout",
     "output_type": "stream",
     "text": [
      "                         Importance\n",
      "ESCOLARIDADE_PAI_A     2.506380e-13\n",
      "RENDA_MENSAL_D         2.058495e-13\n",
      "QUANT_MAQ_LAVAR_LOUCA  1.635423e-13\n",
      "OCUPACAO_PAI_E         1.612280e-13\n",
      "ESCOLARIDADE_MAE_E     1.562034e-13\n",
      "QUANT_BANHEIROS       -2.060548e-13\n",
      "TP_ENSINO             -2.139012e-13\n",
      "RENDA_MENSAL_P        -3.063913e-13\n",
      "RENDA_MENSAL_Q        -3.805029e-13\n",
      "ESCOLARIDADE_MAE_A    -3.910252e-13\n"
     ]
    }
   ],
   "source": [
    "print(top_bottom_features)"
   ]
  },
  {
   "cell_type": "code",
   "execution_count": 14,
   "metadata": {},
   "outputs": [
    {
     "data": {
      "image/png": "[encoded data removed]",
      "text/plain": [
       "<Figure size 720x432 with 1 Axes>"
      ]
     },
     "metadata": {
      "needs_background": "light"
     },
     "output_type": "display_data"
    }
   ],
   "source": [
    "plt.figure(figsize=(10, 6))\n",
    "sns.scatterplot(x=y_train, y=y_pred)\n",
    "plt.plot([y_train.min(), y_train.max()], [y_train.min(), y_train.max()], color='red', linestyle='--')\n",
    "plt.xlabel('Actual Values')\n",
    "plt.ylabel('Predicted Values')\n",
    "plt.title('Actual vs. Predicted Values')\n",
    "plt.show()"
   ]
  },
  {
   "cell_type": "code",
   "execution_count": 15,
   "metadata": {},
   "outputs": [
    {
     "name": "stdout",
     "output_type": "stream",
     "text": [
      "Percentage of Points Above the Line: 35.314965034374595\n",
      "Percentage of Points Below the Line: 54.687166887246676\n",
      "Percentage of Points On the Line: 9.997868078378726\n"
     ]
    }
   ],
   "source": [
    "differences = y_train - y_pred\n",
    "\n",
    "above_line = np.sum(differences < 0)\n",
    "below_line = np.sum(differences > 0)\n",
    "on_line = np.sum(differences == 0)\n",
    "\n",
    "total_points = len(differences)\n",
    "\n",
    "percent_above_line = (above_line / total_points) * 100\n",
    "percent_below_line = (below_line / total_points) * 100\n",
    "percent_on_line = (on_line / total_points) * 100\n",
    "\n",
    "print(\"Percentage of Points Above the Line:\", percent_above_line)\n",
    "print(\"Percentage of Points Below the Line:\", percent_below_line)\n",
    "print(\"Percentage of Points On the Line:\", percent_on_line)"
   ]
  }
 ],
 "metadata": {
  "kernelspec": {
   "display_name": "base",
   "language": "python",
   "name": "python3"
  },
  "language_info": {
   "codemirror_mode": {
    "name": "ipython",
    "version": 3
   },
   "file_extension": ".py",
   "mimetype": "text/x-python",
   "name": "python",
   "nbconvert_exporter": "python",
   "pygments_lexer": "ipython3",
   "version": "3.6.8"
  },
  "orig_nbformat": 4
 },
 "nbformat": 4,
 "nbformat_minor": 2
}
